{
 "cells": [
  {
   "cell_type": "markdown",
   "id": "761b0592",
   "metadata": {},
   "source": [
    "### 1.加载数据"
   ]
  },
  {
   "cell_type": "code",
   "execution_count": 1,
   "id": "14e8b9fe",
   "metadata": {},
   "outputs": [],
   "source": [
    "import numpy as np\n",
    "import gzip\n",
    "\n",
    "def load_images(filename):\n",
    "    with gzip.open(filename, 'rb') as f:\n",
    "        # 读取数据头信息\n",
    "        f.read(16)  # 跳过头信息\n",
    "        # 加载图像数据，每张图像28*28\n",
    "        data = np.frombuffer(f.read(), dtype=np.uint8).reshape(-1, 784)\n",
    "    return data / 255.0  # 归一化\n",
    "\n",
    "def load_labels(filename):\n",
    "    with gzip.open(filename, 'rb') as f:\n",
    "        f.read(8)  # 跳过头信息\n",
    "        data = np.frombuffer(f.read(), dtype=np.uint8)\n",
    "    return data\n",
    "\n",
    "# 加载数据\n",
    "X_train = load_images('train-images-idx3-ubyte.gz')\n",
    "y_train = load_labels('train-labels-idx1-ubyte.gz')\n",
    "X_test = load_images('t10k-images-idx3-ubyte.gz')\n",
    "y_test = load_labels('t10k-labels-idx1-ubyte.gz')"
   ]
  },
  {
   "cell_type": "markdown",
   "id": "2c0547a5",
   "metadata": {},
   "source": [
    "从数据中得到：\n",
    "训练图像：60000张，每张图像有784个特征。\n",
    "训练标签：60000个。\n",
    "测试图像：10000张。\n",
    "测试标签：10000个。"
   ]
  },
  {
   "cell_type": "markdown",
   "id": "56855ff0",
   "metadata": {},
   "source": [
    "### 2. 初始化模型"
   ]
  },
  {
   "cell_type": "markdown",
   "id": "c90e3025",
   "metadata": {},
   "source": [
    "我们将初始化一个简单的三层神经网络模型，以 128 个神经元为例来定义这个模型，并实现正向传播、损失计算和反向传播的函数。"
   ]
  },
  {
   "cell_type": "code",
   "execution_count": 2,
   "id": "3cd3f565",
   "metadata": {},
   "outputs": [],
   "source": [
    "class NeuralNetwork:\n",
    "    def __init__(self, input_size, hidden_size, output_size, lr=0.1, reg_lambda=0.01):\n",
    "        # Weight initialization\n",
    "        self.reg_lambda = reg_lambda\n",
    "        self.W1 = np.random.randn(input_size, hidden_size) * 0.01\n",
    "        self.b1 = np.zeros((1, hidden_size))\n",
    "        self.W2 = np.random.randn(hidden_size, output_size) * 0.01\n",
    "        self.b2 = np.zeros((1, output_size))\n",
    "        self.lr = lr\n",
    "        self.reg_lambda = reg_lambda\n",
    "\n",
    "    def forward(self, X):\n",
    "        # Forward propagation\n",
    "        self.z1 = np.dot(X, self.W1) + self.b1\n",
    "        self.a1 = np.maximum(0, self.z1)  # ReLU activation function\n",
    "        self.z2 = np.dot(self.a1, self.W2) + self.b2\n",
    "        self.a2 = np.exp(self.z2) / np.sum(np.exp(self.z2), axis=1, keepdims=True)  # Softmax\n",
    "        return self.a2\n",
    "\n",
    "    def compute_loss(self, y, y_hat):\n",
    "        # Compute the loss function\n",
    "        m = y.shape[0]\n",
    "        correct_logprobs = -np.log(y_hat[range(m), y])\n",
    "        data_loss = np.sum(correct_logprobs) / m\n",
    "        # Add regularization\n",
    "        data_loss += self.reg_lambda / 2 * (np.sum(np.square(self.W1)) + np.sum(np.square(self.W2)))\n",
    "        return data_loss\n",
    "\n",
    "    def backprop(self, X, y, y_hat, learning_rate):\n",
    "        # Backpropagation\n",
    "        m = X.shape[0]\n",
    "        dz2 = y_hat\n",
    "        dz2[range(m), y] -= 1\n",
    "        dz2 /= m\n",
    "        dW2 = np.dot(self.a1.T, dz2) + self.reg_lambda * self.W2\n",
    "        db2 = np.sum(dz2, axis=0, keepdims=True)\n",
    "        da1 = np.dot(dz2, self.W2.T)\n",
    "        dz1 = da1 * (self.a1 > 0)\n",
    "        dW1 = np.dot(X.T, dz1) + self.reg_lambda * self.W1\n",
    "        db1 = np.sum(dz1, axis=0, keepdims=True)\n",
    "        # Update weights and biases\n",
    "        self.W1 -= learning_rate * dW1\n",
    "        self.b1 -= learning_rate * db1\n",
    "        self.W2 -= learning_rate * dW2\n",
    "        self.b2 -= learning_rate * db2\n",
    "\n"
   ]
  },
  {
   "cell_type": "markdown",
   "id": "f38fa1ef",
   "metadata": {},
   "source": [
    "### 3. 训练模型"
   ]
  },
  {
   "cell_type": "code",
   "execution_count": 28,
   "id": "55a03e80",
   "metadata": {},
   "outputs": [
    {
     "name": "stdout",
     "output_type": "stream",
     "text": [
      "0.8292333333333334\n"
     ]
    }
   ],
   "source": [
    "def train(model, X, y, epochs, learning_rate, learning_rate_decay, batch_size=100):\n",
    "    n_batches = int(np.ceil(X.shape[0] / batch_size))\n",
    "    losses = []\n",
    "    accuracies = []\n",
    "    \n",
    "    for epoch in range(epochs):\n",
    "        # Shuffle the data\n",
    "        epoch_loss = 0  # 初始化每个epoch的总损失\n",
    "        indices = np.random.permutation(X.shape[0])\n",
    "        X_shuffled = X[indices]\n",
    "        y_shuffled = y[indices]\n",
    "        \n",
    "        for i in range(n_batches):\n",
    "            # Create batches\n",
    "            start_idx = i * batch_size\n",
    "            end_idx = start_idx + batch_size\n",
    "            X_batch = X_shuffled[start_idx:end_idx]\n",
    "            y_batch = y_shuffled[start_idx:end_idx]\n",
    "            \n",
    "            # Forward pass\n",
    "            y_hat = model.forward(X_batch)\n",
    "            \n",
    "            # Compute loss\n",
    "            loss = model.compute_loss(y_batch, y_hat)\n",
    "            epoch_loss += loss\n",
    "            \n",
    "            \n",
    "            # Backpropagation\n",
    "            model.backprop(X_batch, y_batch, y_hat, learning_rate)\n",
    "        \n",
    "        epoch_loss /= n_batches\n",
    "        losses.append(epoch_loss)\n",
    "            \n",
    "        # Learning rate decay\n",
    "        learning_rate *= learning_rate_decay\n",
    "        \n",
    "        # Calculate accuracy on the whole dataset\n",
    "        y_hat_full = model.forward(X)\n",
    "        predictions = np.argmax(y_hat_full, axis=1)\n",
    "        accuracy = np.mean(predictions == y)\n",
    "        accuracies.append(accuracy)\n",
    "        \n",
    "        # print(f\"Epoch {epoch+1}, Loss: {loss:.4f}, Accuracy: {accuracy:.4f}\")\n",
    "    \n",
    "    return losses, accuracies\n",
    "\n",
    "# Set parameters\n",
    "epochs = 20\n",
    "learning_rate_decay = 0.95\n",
    "initial_learning_rate = 0.01\n",
    "hidden_size = 64\n",
    "reg_lambda = 0.01\n",
    "\n",
    "# Start training the model\n",
    "model = NeuralNetwork(784, hidden_size, 10)\n",
    "losses, accuracies = train(model, X_train, y_train, epochs, initial_learning_rate, learning_rate_decay)\n",
    "print(accuracies[-1])\n"
   ]
  },
  {
   "cell_type": "markdown",
   "id": "7e1cf609",
   "metadata": {},
   "source": [
    "模型的accuracy为0.829，表明有不错的性能。接下来，将进行参数查找。"
   ]
  },
  {
   "cell_type": "markdown",
   "id": "c2297958",
   "metadata": {},
   "source": [
    "### 4. 参数查找"
   ]
  },
  {
   "cell_type": "markdown",
   "id": "aa4104bf",
   "metadata": {},
   "source": [
    "调节学习率、隐藏层大小、正则化强度等超参数，观察并记录模型在不同超参数下的性能。"
   ]
  },
  {
   "cell_type": "code",
   "execution_count": 29,
   "id": "c3d1eef8",
   "metadata": {},
   "outputs": [
    {
     "name": "stdout",
     "output_type": "stream",
     "text": [
      "Hidden layer size: 32, Learning rate: 0.02, Regularization: 0.001, Accuracy: 0.837\n",
      "Hidden layer size: 32, Learning rate: 0.02, Regularization: 0.01, Accuracy: 0.8390333333333333\n",
      "Hidden layer size: 32, Learning rate: 0.02, Regularization: 0.1, Accuracy: 0.8382833333333334\n",
      "Hidden layer size: 32, Learning rate: 0.01, Regularization: 0.001, Accuracy: 0.8270833333333333\n",
      "Hidden layer size: 32, Learning rate: 0.01, Regularization: 0.01, Accuracy: 0.826\n",
      "Hidden layer size: 32, Learning rate: 0.01, Regularization: 0.1, Accuracy: 0.8253833333333334\n",
      "Hidden layer size: 32, Learning rate: 0.001, Regularization: 0.001, Accuracy: 0.5976\n",
      "Hidden layer size: 32, Learning rate: 0.001, Regularization: 0.01, Accuracy: 0.5923833333333334\n",
      "Hidden layer size: 32, Learning rate: 0.001, Regularization: 0.1, Accuracy: 0.5921\n",
      "Hidden layer size: 64, Learning rate: 0.02, Regularization: 0.001, Accuracy: 0.83945\n",
      "Hidden layer size: 64, Learning rate: 0.02, Regularization: 0.01, Accuracy: 0.8403333333333334\n",
      "Hidden layer size: 64, Learning rate: 0.02, Regularization: 0.1, Accuracy: 0.8395333333333334\n",
      "Hidden layer size: 64, Learning rate: 0.01, Regularization: 0.001, Accuracy: 0.8277333333333333\n",
      "Hidden layer size: 64, Learning rate: 0.01, Regularization: 0.01, Accuracy: 0.8289833333333333\n",
      "Hidden layer size: 64, Learning rate: 0.01, Regularization: 0.1, Accuracy: 0.8276333333333333\n",
      "Hidden layer size: 64, Learning rate: 0.001, Regularization: 0.001, Accuracy: 0.61855\n",
      "Hidden layer size: 64, Learning rate: 0.001, Regularization: 0.01, Accuracy: 0.6208666666666667\n",
      "Hidden layer size: 64, Learning rate: 0.001, Regularization: 0.1, Accuracy: 0.6265333333333334\n",
      "Hidden layer size: 128, Learning rate: 0.02, Regularization: 0.001, Accuracy: 0.8396333333333333\n",
      "Hidden layer size: 128, Learning rate: 0.02, Regularization: 0.01, Accuracy: 0.8414333333333334\n",
      "Hidden layer size: 128, Learning rate: 0.02, Regularization: 0.1, Accuracy: 0.8403\n",
      "Hidden layer size: 128, Learning rate: 0.01, Regularization: 0.001, Accuracy: 0.82975\n",
      "Hidden layer size: 128, Learning rate: 0.01, Regularization: 0.01, Accuracy: 0.8289\n",
      "Hidden layer size: 128, Learning rate: 0.01, Regularization: 0.1, Accuracy: 0.8312166666666667\n",
      "Hidden layer size: 128, Learning rate: 0.001, Regularization: 0.001, Accuracy: 0.6472666666666667\n",
      "Hidden layer size: 128, Learning rate: 0.001, Regularization: 0.01, Accuracy: 0.6404666666666666\n",
      "Hidden layer size: 128, Learning rate: 0.001, Regularization: 0.1, Accuracy: 0.6436833333333334\n"
     ]
    }
   ],
   "source": [
    "hidden_sizes = [32, 64, 128]\n",
    "learning_rates = [0.02, 0.01, 0.001]\n",
    "regularizations = [0.001, 0.01, 0.1]\n",
    "\n",
    "for hidden_size in hidden_sizes:\n",
    "    for initial_learning_rate in learning_rates:\n",
    "        for reg_lambda in regularizations:\n",
    "            model = NeuralNetwork(784, hidden_size, 10)\n",
    "            losses, accuracies = train(model, X_train, y_train, epochs, initial_learning_rate, learning_rate_decay)\n",
    "            print(f'Hidden layer size: {hidden_size}, Learning rate: {initial_learning_rate}, Regularization: {reg_lambda}, Accuracy: {accuracies[-1]}')"
   ]
  },
  {
   "cell_type": "markdown",
   "id": "6dee4415",
   "metadata": {},
   "source": [
    "结果表明，在\n",
    "- initial_learning_rate = 0.02\n",
    "- hidden_size = 128\n",
    "- reg_lambda = 0.01\n",
    "时，模型的性能较好。"
   ]
  },
  {
   "cell_type": "markdown",
   "id": "860f76df",
   "metadata": {},
   "source": [
    "### 5. 测试模型"
   ]
  },
  {
   "cell_type": "markdown",
   "id": "f7b4e00f",
   "metadata": {},
   "source": [
    "根据参数查找，选择的模型参数为：\n",
    "- initial_learning_rate = 0.02\n",
    "- hidden_size = 128\n",
    "- reg_lambda = 0.01"
   ]
  },
  {
   "cell_type": "code",
   "execution_count": 32,
   "id": "774de1b9",
   "metadata": {},
   "outputs": [
    {
     "name": "stdout",
     "output_type": "stream",
     "text": [
      "Test set accuracy: 0.8265\n"
     ]
    }
   ],
   "source": [
    "model = NeuralNetwork(784, 128, 10)\n",
    "losses, accuracies = train(model, X_train, y_train, epochs, 0.02, learning_rate_decay)\n",
    "def evaluate_model(model, X_test, y_test):\n",
    "    predictions = np.argmax(model.forward(X_test), axis=1)\n",
    "    accuracy = np.mean(predictions == y_test)\n",
    "    return accuracy\n",
    "\n",
    "test_accuracy = evaluate_model(model, X_test, y_test)\n",
    "print(f\"Test set accuracy: {test_accuracy}\")"
   ]
  },
  {
   "cell_type": "markdown",
   "id": "ccc47f87",
   "metadata": {},
   "source": [
    "在测试集上的准确率为0.8265，表明模型的精度较好。"
   ]
  },
  {
   "cell_type": "markdown",
   "id": "31fe21e5",
   "metadata": {},
   "source": [
    "### 6: 可视化训练和验证损失以及准确率"
   ]
  },
  {
   "cell_type": "code",
   "execution_count": 33,
   "id": "caa0e30d",
   "metadata": {},
   "outputs": [
    {
     "data": {
      "image/png": "[encoded data removed]",
      "text/plain": [
       "<Figure size 1000x500 with 2 Axes>"
      ]
     },
     "metadata": {},
     "output_type": "display_data"
    }
   ],
   "source": [
    "import matplotlib.pyplot as plt\n",
    "\n",
    "def plot_history(losses, accuracies):\n",
    "    epochs = range(1, len(accuracies) + 1)\n",
    "    plt.figure(figsize=(10, 5))\n",
    "    plt.subplot(1, 2, 1)\n",
    "    plt.plot(epochs, losses, label='Loss')\n",
    "    plt.title('Loss during training')\n",
    "    plt.xlabel('Epoch')\n",
    "    plt.ylabel('Loss')\n",
    "    plt.legend()\n",
    "\n",
    "    plt.subplot(1, 2, 2)\n",
    "    plt.plot(epochs, accuracies, label='Accuracy')\n",
    "    plt.title('Accuracy during training')\n",
    "    plt.xlabel('Epoch')\n",
    "    plt.ylabel('Accuracy')\n",
    "    plt.legend()\n",
    "\n",
    "    plt.tight_layout()\n",
    "    plt.show()\n",
    "\n",
    "plot_history(losses, accuracies)\n"
   ]
  },
  {
   "cell_type": "markdown",
   "id": "05b7ef75",
   "metadata": {},
   "source": [
    "### 附：repo链接：https://github.com/sidongxi1/NNDL-hw1"
   ]
  }
 ],
 "metadata": {
  "kernelspec": {
   "display_name": "Python 3 (ipykernel)",
   "language": "python",
   "name": "python3"
  },
  "language_info": {
   "codemirror_mode": {
    "name": "ipython",
    "version": 3
   },
   "file_extension": ".py",
   "mimetype": "text/x-python",
   "name": "python",
   "nbconvert_exporter": "python",
   "pygments_lexer": "ipython3",
   "version": "3.11.2"
  }
 },
 "nbformat": 4,
 "nbformat_minor": 5
}
